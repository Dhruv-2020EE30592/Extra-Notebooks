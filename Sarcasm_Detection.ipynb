{
  "nbformat": 4,
  "nbformat_minor": 0,
  "metadata": {
    "colab": {
      "provenance": [],
      "authorship_tag": "ABX9TyO9V2AGiWJxUa1A2o0QKxGA",
      "include_colab_link": true
    },
    "kernelspec": {
      "name": "python3",
      "display_name": "Python 3"
    },
    "language_info": {
      "name": "python"
    }
  },
  "cells": [
    {
      "cell_type": "markdown",
      "metadata": {
        "id": "view-in-github",
        "colab_type": "text"
      },
      "source": [
        "<a href=\"https://colab.research.google.com/github/Dhruv-2020EE30592/Extra-Notebooks/blob/main/Sarcasm_Detection.ipynb\" target=\"_parent\"><img src=\"https://colab.research.google.com/assets/colab-badge.svg\" alt=\"Open In Colab\"/></a>"
      ]
    },
    {
      "cell_type": "code",
      "execution_count": null,
      "metadata": {
        "id": "oojsVSujLP3W"
      },
      "outputs": [],
      "source": [
        "# checking device\n",
        "\n",
        "from torch import cuda\n",
        "\n",
        "device = 'cuda' if cuda.is_available() else 'cpu'\n",
        "print(device)"
      ]
    },
    {
      "cell_type": "code",
      "source": [
        "# importing data and checking for missing values\n",
        "\n",
        "import os\n",
        "import pandas as pd\n",
        "\n",
        "for dirname, _, filenames in os.walk('/kaggle/input'):\n",
        "    for filename in filenames:\n",
        "        print(os.path.join(dirname, filename))\n",
        "\n",
        "df = pd.read_csv('/kaggle/input/sarcasm-detection/training_data.csv')\n",
        "df_test = pd.read_csv('/kaggle/input/sarcasm-detection/test_data.csv')\n",
        "df_sample = pd.read_csv('/kaggle/input/sarcasm-detection/sample_submisson.csv')\n",
        "\n",
        "df.info()\n",
        "df.head()"
      ],
      "metadata": {
        "id": "byk5tXq-LYom"
      },
      "execution_count": null,
      "outputs": []
    },
    {
      "cell_type": "code",
      "source": [
        "# data preprocessing\n",
        "\n",
        "import torch\n",
        "from torch.utils.data import Dataset\n",
        "\n",
        "class CustomDataset(Dataset):\n",
        "    def __init__(self, dataframe, tokenizer, max_length):\n",
        "        self.df = dataframe\n",
        "        self.tokenizer = tokenizer\n",
        "        self.max_length = max_length\n",
        "\n",
        "    def __len__(self):\n",
        "        return len(self.df)\n",
        "\n",
        "    def __getitem__(self, index):\n",
        "        encoding = tokenizer.encode_plus(\n",
        "            self.df.text.iloc[index],\n",
        "            add_special_tokens = True,\n",
        "            max_length = self.max_length,\n",
        "            padding = 'max_length',\n",
        "            truncation = True,\n",
        "            return_token_type_ids = True,\n",
        "            return_attention_mask = True,\n",
        "            return_tensors = 'pt',\n",
        "        )\n",
        "        return {\n",
        "            'ID': torch.tensor(self.df.ID.iloc[index]),\n",
        "            'input_ids': encoding['input_ids'].flatten().clone().detach().long(),\n",
        "            'attention_mask': encoding['attention_mask'].flatten().clone().detach().long(),\n",
        "            'token_type_ids': encoding['token_type_ids'].flatten().clone().detach().long(),\n",
        "            'targets': torch.tensor(self.df.label.iloc[index])\n",
        "        }"
      ],
      "metadata": {
        "id": "SBt3lBLBLboj"
      },
      "execution_count": null,
      "outputs": []
    },
    {
      "cell_type": "code",
      "source": [
        "# dataloader\n",
        "\n",
        "from sklearn.model_selection import train_test_split\n",
        "from torch.utils.data import DataLoader\n",
        "from transformers import DistilBertTokenizer\n",
        "\n",
        "\n",
        "MAX_LEN = 512\n",
        "BATCH_SIZE = 16\n",
        "tokenizer = DistilBertTokenizer.from_pretrained('distilbert-base-uncased')\n",
        "\n",
        "df_train, df_val = train_test_split(df, test_size = 0.2)\n",
        "\n",
        "ds_train = CustomDataset(df_train, tokenizer, MAX_LEN)\n",
        "dl_train = DataLoader(ds_train, batch_size = BATCH_SIZE, shuffle=True)\n",
        "\n",
        "ds_val = CustomDataset(df_val, tokenizer, MAX_LEN)\n",
        "dl_val = DataLoader(ds_val, batch_size = BATCH_SIZE, shuffle=True)"
      ],
      "metadata": {
        "id": "OalN6nSpLeQE"
      },
      "execution_count": null,
      "outputs": []
    },
    {
      "cell_type": "code",
      "source": [
        "# defining model\n",
        "# we use the first token for sequence classification as that contains all information in the BERT model\n",
        "\n",
        "from transformers import DistilBertModel, AdamW\n",
        "import torch.nn as nn\n",
        "\n",
        "LEARNING_RATE = 1e-05\n",
        "\n",
        "class CustomModel(torch.nn.Module):\n",
        "    def __init__(self):\n",
        "        super().__init__()\n",
        "        self.l1 = DistilBertModel.from_pretrained(\"distilbert-base-uncased\")\n",
        "        self.l2 = torch.nn.Linear(768, 2)\n",
        "\n",
        "    def forward(self, input_ids, attention_mask):\n",
        "        output_1 = self.l1(input_ids, attention_mask = attention_mask)\n",
        "        output = self.l2(output_1['last_hidden_state'][:, 0])\n",
        "        return output\n",
        "\n",
        "model = CustomModel()\n",
        "model.to(device)\n",
        "optimizer = torch.optim.AdamW(model.parameters(), lr = LEARNING_RATE)"
      ],
      "metadata": {
        "id": "aqHs34CyLgou"
      },
      "execution_count": null,
      "outputs": []
    },
    {
      "cell_type": "code",
      "source": [
        "# training\n",
        "\n",
        "from tqdm import tqdm\n",
        "\n",
        "NUM_EPOCHS = 5\n",
        "\n",
        "def loss_fnx(outputs, targets):\n",
        "    return torch.nn.CrossEntropyLoss()(outputs, targets)\n",
        "\n",
        "for epoch in range(NUM_EPOCHS):\n",
        "#     training\n",
        "    model.train()\n",
        "    train_loop = tqdm(dl_train, desc = f'Epoch {epoch + 1}/{NUM_EPOCHS}, Training')\n",
        "    train_loss = []\n",
        "    for _, data in enumerate(train_loop):\n",
        "        input_ids = data['input_ids'].to(device, dtype = torch.long)\n",
        "        attention_mask = data['attention_mask'].to(device, dtype = torch.long)\n",
        "        targets = data['targets'].to(device, dtype = torch.long)\n",
        "        outputs = model(input_ids, attention_mask)\n",
        "        loss = loss_fnx(outputs, targets)\n",
        "        train_loss.append(loss)\n",
        "        loss.backward()\n",
        "        optimizer.step()\n",
        "        optimizer.zero_grad()\n",
        "    print(f'Training Loss: {torch.mean(torch.tensor(train_loss))}')\n",
        "#     checkpoint\n",
        "    checkpoint_filename = f'checkpoint_epoch_{epoch + 1}.pth'\n",
        "    torch.save({\n",
        "        'epoch': epoch+1,\n",
        "        'model_state_dict': model.state_dict(),\n",
        "        'optimizer_state_dict': optimizer.state_dict(),\n",
        "    }, checkpoint_filename)\n",
        "#     validation\n",
        "    model.eval()\n",
        "    val_loop = tqdm(dl_val, desc = f'Epoch {epoch + 1}/{NUM_EPOCHS}, Validation')\n",
        "    val_loss = []\n",
        "    with torch.no_grad():\n",
        "        for _, data in enumerate(val_loop):\n",
        "            input_ids = data['input_ids'].to(device, dtype = torch.long)\n",
        "            attention_mask = data['attention_mask'].to(device, dtype = torch.long)\n",
        "            targets = data['targets'].to(device, dtype = torch.long)\n",
        "            outputs = model(input_ids, attention_mask)\n",
        "            loss = loss_fnx(outputs, targets)\n",
        "            val_loss.append(loss)\n",
        "    print(f'Validation Loss: {torch.mean(torch.tensor(val_loss))}')"
      ],
      "metadata": {
        "id": "7-0r8LWkLjNt"
      },
      "execution_count": null,
      "outputs": []
    },
    {
      "cell_type": "code",
      "source": [
        "# testing\n",
        "\n",
        "class CustomDatasetTesting(Dataset):\n",
        "    def __init__(self, dataframe, tokenizer, max_length):\n",
        "        self.df = dataframe\n",
        "        self.tokenizer = tokenizer\n",
        "        self.max_length = max_length\n",
        "\n",
        "    def __len__(self):\n",
        "        return len(self.df)\n",
        "\n",
        "    def __getitem__(self, index):\n",
        "        encoding = tokenizer.encode_plus(\n",
        "            self.df.text.iloc[index],\n",
        "            add_special_tokens = True,\n",
        "            max_length = self.max_length,\n",
        "            padding = 'max_length',\n",
        "            truncation = True,\n",
        "            return_token_type_ids = True,\n",
        "            return_attention_mask = True,\n",
        "            return_tensors = 'pt',\n",
        "        )\n",
        "        return {\n",
        "            'ID': torch.tensor(self.df.ID.iloc[index]),\n",
        "            'input_ids': encoding['input_ids'].flatten().clone().detach().long(),\n",
        "            'attention_mask': encoding['attention_mask'].flatten().clone().detach().long(),\n",
        "            'token_type_ids': encoding['token_type_ids'].flatten().clone().detach().long()\n",
        "        }\n",
        "\n",
        "ds_test = CustomDatasetTesting(df_test, tokenizer, MAX_LEN)\n",
        "dl_train = DataLoader(ds_test, batch_size = BATCH_SIZE, shuffle=False)\n",
        "\n",
        "checkpoint = torch.load('checkpoint_epoch_2.pth')\n",
        "model.load_state_dict(checkpoint['model_state_dict'])\n",
        "optimizer.load_state_dict(checkpoint['optimizer_state_dict'])\n",
        "\n",
        "model.eval()\n",
        "test_loop = tqdm(dl_test, desc = f'Testing')\n",
        "correct = 0\n",
        "incorrect = 0\n",
        "with torch.no_grad():\n",
        "    for _, data in enumerate(test_loop):\n",
        "        input_ids = data['input_ids'].to(device, dtype = torch.long)\n",
        "        attention_mask = data['attention_mask'].to(device, dtype = torch.long)\n",
        "        outputs = model(input_ids, attention_mask)\n",
        "        pred_outputs = torch.argmax(outputs, dim=1)"
      ],
      "metadata": {
        "id": "HRG65xHWLlgZ"
      },
      "execution_count": null,
      "outputs": []
    }
  ]
}