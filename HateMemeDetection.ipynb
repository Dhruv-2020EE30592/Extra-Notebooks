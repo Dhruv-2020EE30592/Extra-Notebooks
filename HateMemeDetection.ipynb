{
  "cells": [
    {
      "cell_type": "markdown",
      "metadata": {
        "id": "view-in-github",
        "colab_type": "text"
      },
      "source": [
        "<a href=\"https://colab.research.google.com/github/Dhruv-2020EE30592/Extra-Notebooks/blob/main/HateMemeDetection.ipynb\" target=\"_parent\"><img src=\"https://colab.research.google.com/assets/colab-badge.svg\" alt=\"Open In Colab\"/></a>"
      ]
    },
    {
      "cell_type": "code",
      "source": [
        "import torch\n",
        "import torch.nn as nn\n",
        "import torch.nn.functional as F\n",
        "import torch.optim as optim\n",
        "from torch.utils.data import DataLoader, Dataset, random_split\n",
        "import matplotlib.pyplot as plt\n",
        "from sklearn.metrics import accuracy_score, roc_auc_score\n",
        "from tqdm import tqdm"
      ],
      "metadata": {
        "id": "31LwYbosv9AK"
      },
      "execution_count": 1,
      "outputs": []
    },
    {
      "cell_type": "code",
      "source": [
        "seed = 42\n",
        "torch.manual_seed(seed)\n",
        "if torch.cuda.is_available():\n",
        "    torch.cuda.manual_seed(seed)\n",
        "    torch.cuda.manual_seed_all(seed)\n",
        "    torch.backends.cudnn.deterministic = True\n",
        "    torch.backends.cudnn.benchmark = False\n",
        "torch.use_deterministic_algorithms(True)"
      ],
      "metadata": {
        "id": "0szEqtz75SUh"
      },
      "execution_count": 2,
      "outputs": []
    },
    {
      "cell_type": "code",
      "source": [
        "data = torch.load('/content/drive/MyDrive/combined_embeddings.pt', weights_only=True)\n",
        "print(f'data type: {type(data)}')\n",
        "print(f'size of data: {len(data)}')\n",
        "for key in data[0].keys():\n",
        "  print(f\"{key}: {type(data[0][key])} {data[0][key].size() if torch.is_tensor(data[0][key]) else ' '}\")"
      ],
      "metadata": {
        "id": "UafS21Irv_9G",
        "colab": {
          "base_uri": "https://localhost:8080/"
        },
        "outputId": "b92304c1-8e04-441d-83c1-1debe2e093e9"
      },
      "execution_count": 3,
      "outputs": [
        {
          "output_type": "stream",
          "name": "stdout",
          "text": [
            "data type: <class 'list'>\n",
            "size of data: 3544\n",
            "image: <class 'str'>  \n",
            "image_embedding: <class 'torch.Tensor'> torch.Size([1, 512])\n",
            "caption_embedding: <class 'torch.Tensor'> torch.Size([1, 512])\n",
            "meme_text_embedding: <class 'torch.Tensor'> torch.Size([1, 512])\n",
            "vqa_embeddings: <class 'torch.Tensor'> torch.Size([8, 1, 512])\n",
            "label: <class 'int'>  \n"
          ]
        }
      ]
    },
    {
      "cell_type": "markdown",
      "source": [
        "# Using attention"
      ],
      "metadata": {
        "id": "X4gX-zbumXI8"
      }
    },
    {
      "cell_type": "code",
      "source": [
        "class MemeDataset(Dataset):\n",
        "    def __init__(self, data, transform=None):\n",
        "        self.data = data\n",
        "        self.transform = transform\n",
        "\n",
        "    def __len__(self):\n",
        "        return len(self.data)\n",
        "\n",
        "    def __getitem__(self, idx):\n",
        "        sample = self.data[idx]\n",
        "        image_emb = sample['image_embedding']\n",
        "        caption_emb = sample['caption_embedding']\n",
        "        meme_text_emb = sample['meme_text_embedding']\n",
        "        vqa_emb_0 = sample['vqa_embeddings'][0]\n",
        "        vqa_emb_1 = sample['vqa_embeddings'][1]\n",
        "        vqa_emb_2 = sample['vqa_embeddings'][2]\n",
        "        vqa_emb_3 = sample['vqa_embeddings'][3]\n",
        "        vqa_emb_4 = sample['vqa_embeddings'][4]\n",
        "        vqa_emb_5 = sample['vqa_embeddings'][5]\n",
        "        vqa_emb_6 = sample['vqa_embeddings'][6]\n",
        "        vqa_emb_7 = sample['vqa_embeddings'][7]\n",
        "        label = sample['label']\n",
        "\n",
        "        if self.transform:\n",
        "            pass\n",
        "\n",
        "        return image_emb, caption_emb, meme_text_emb, vqa_emb_0, vqa_emb_1, vqa_emb_2, vqa_emb_3, vqa_emb_4, vqa_emb_5, vqa_emb_6, vqa_emb_7, label\n",
        "\n",
        "dataset = MemeDataset(data)\n",
        "\n",
        "train_size = int(0.8 * len(dataset))\n",
        "val_size = int(0.1 * len(dataset))\n",
        "test_size = len(dataset) - train_size - val_size\n",
        "train_dataset, val_dataset, test_dataset = random_split(dataset, [train_size, val_size, test_size])\n",
        "\n",
        "train_loader = DataLoader(train_dataset, batch_size=32, shuffle=True)\n",
        "val_loader = DataLoader(val_dataset, batch_size=32, shuffle=False)\n",
        "test_loader = DataLoader(test_dataset, batch_size=32, shuffle=False)"
      ],
      "metadata": {
        "id": "aJ_zHRQy2oA9"
      },
      "execution_count": 4,
      "outputs": []
    },
    {
      "cell_type": "code",
      "source": [
        "index = 0\n",
        "data_point = train_dataset[index]\n",
        "\n",
        "image_emb, caption_emb, meme_text_emb, vqa_emb_0, vqa_emb_1, vqa_emb_2, vqa_emb_3, vqa_emb_4, vqa_emb_5, vqa_emb_6, vqa_emb_7, label = data_point\n",
        "\n",
        "print(\"Index:\", index)\n",
        "print(\"Image Embedding:\", image_emb.shape)\n",
        "print(\"Caption Embedding:\", caption_emb.shape)\n",
        "print(\"Meme Text Embedding:\", meme_text_emb.shape)\n",
        "print(\"VQA Embeddings:\")\n",
        "print(\"  VQA 0:\", vqa_emb_0.shape)\n",
        "print(\"  VQA 1:\", vqa_emb_1.shape)\n",
        "print(\"  VQA 2:\", vqa_emb_2.shape)\n",
        "print(\"  VQA 3:\", vqa_emb_3.shape)\n",
        "print(\"  VQA 4:\", vqa_emb_4.shape)\n",
        "print(\"  VQA 5:\", vqa_emb_5.shape)\n",
        "print(\"  VQA 6:\", vqa_emb_6.shape)\n",
        "print(\"  VQA 7:\", vqa_emb_7.shape)\n",
        "print(\"Label:\", label)"
      ],
      "metadata": {
        "colab": {
          "base_uri": "https://localhost:8080/"
        },
        "id": "BuGf9XlT2vOL",
        "outputId": "f3e21edb-d553-4094-f169-d1d36316349c"
      },
      "execution_count": 5,
      "outputs": [
        {
          "output_type": "stream",
          "name": "stdout",
          "text": [
            "Index: 0\n",
            "Image Embedding: torch.Size([1, 512])\n",
            "Caption Embedding: torch.Size([1, 512])\n",
            "Meme Text Embedding: torch.Size([1, 512])\n",
            "VQA Embeddings:\n",
            "  VQA 0: torch.Size([1, 512])\n",
            "  VQA 1: torch.Size([1, 512])\n",
            "  VQA 2: torch.Size([1, 512])\n",
            "  VQA 3: torch.Size([1, 512])\n",
            "  VQA 4: torch.Size([1, 512])\n",
            "  VQA 5: torch.Size([1, 512])\n",
            "  VQA 6: torch.Size([1, 512])\n",
            "  VQA 7: torch.Size([1, 512])\n",
            "Label: 0\n"
          ]
        }
      ]
    },
    {
      "cell_type": "code",
      "source": [
        "# Acc: 84.7\n",
        "# class AttentionModule(nn.Module):\n",
        "#     def __init__(self, input_dim):\n",
        "#         super(AttentionModule, self).__init__()\n",
        "#         self.attention_weights = nn.Parameter(torch.rand(input_dim))\n",
        "\n",
        "#     def forward(self, image_emb, caption_emb, meme_text_emb, vqa_emb_0, vqa_emb_1, vqa_emb_2, vqa_emb_3, vqa_emb_4, vqa_emb_5, vqa_emb_6, vqa_emb_7):\n",
        "#         embeddings = torch.stack([image_emb, caption_emb, meme_text_emb, vqa_emb_0, vqa_emb_1, vqa_emb_2, vqa_emb_3, vqa_emb_4, vqa_emb_5, vqa_emb_6, vqa_emb_7], dim=1)\n",
        "\n",
        "#         attention_scores = torch.matmul(embeddings, self.attention_weights)\n",
        "#         attention_scores = F.softmax(attention_scores, dim=1)\n",
        "#         weighted_sum = torch.sum(attention_scores.unsqueeze(-1) * embeddings, dim=1)\n",
        "\n",
        "#         return weighted_sum\n",
        "\n",
        "# Acc: 87.7\n",
        "# class AttentionModule(nn.Module):\n",
        "#     def __init__(self, input_dim):\n",
        "#         super(AttentionModule, self).__init__()\n",
        "#         self.attention_layer = nn.Linear(input_dim, 1)\n",
        "\n",
        "#     def forward(self, image_emb, caption_emb, meme_text_emb, vqa_emb_0, vqa_emb_1, vqa_emb_2, vqa_emb_3, vqa_emb_4, vqa_emb_5, vqa_emb_6, vqa_emb_7):\n",
        "#         embeddings = torch.stack([image_emb, caption_emb, meme_text_emb, vqa_emb_0, vqa_emb_1, vqa_emb_2, vqa_emb_3, vqa_emb_4, vqa_emb_5, vqa_emb_6, vqa_emb_7], dim=1)\n",
        "\n",
        "#         attention_scores = self.attention_layer(embeddings)\n",
        "#         attention_scores = attention_scores.squeeze(-1)\n",
        "#         attention_scores = F.softmax(attention_scores, dim=1)\n",
        "#         weighted_sum = torch.sum(attention_scores.unsqueeze(-1) * embeddings, dim=1)\n",
        "\n",
        "#         return weighted_sum\n",
        "\n",
        "# 89.1\n",
        "class MultiHeadAttentionModule(nn.Module):\n",
        "    def __init__(self, input_dim, num_heads):\n",
        "        super(MultiHeadAttentionModule, self).__init__()\n",
        "        self.input_dim = input_dim\n",
        "        self.num_heads = num_heads\n",
        "        self.head_dim = input_dim // num_heads\n",
        "        assert self.head_dim * num_heads == input_dim, \"input_dim must be divisible by num_heads\"\n",
        "\n",
        "        self.query_layer = nn.Linear(input_dim, input_dim)\n",
        "        self.key_layer = nn.Linear(input_dim, input_dim)\n",
        "        self.value_layer = nn.Linear(input_dim, input_dim)\n",
        "        self.output_layer = nn.Linear(input_dim, input_dim)\n",
        "\n",
        "    def forward(self, image_emb, caption_emb, meme_text_emb, vqa_emb_0, vqa_emb_1, vqa_emb_2, vqa_emb_3, vqa_emb_4, vqa_emb_5, vqa_emb_6, vqa_emb_7):\n",
        "        embeddings = torch.stack([image_emb, caption_emb, meme_text_emb, vqa_emb_0, vqa_emb_1, vqa_emb_2, vqa_emb_3, vqa_emb_4, vqa_emb_5, vqa_emb_6, vqa_emb_7], dim=1)\n",
        "        batch_size, num_embeddings, _, _ = embeddings.shape\n",
        "\n",
        "        query = self.query_layer(embeddings)\n",
        "        key = self.key_layer(embeddings)\n",
        "        value = self.value_layer(embeddings)\n",
        "\n",
        "        query = query.view(batch_size, num_embeddings, self.num_heads, self.head_dim).transpose(1, 2)\n",
        "        key = key.view(batch_size, num_embeddings, self.num_heads, self.head_dim).transpose(1, 2)\n",
        "        value = value.view(batch_size, num_embeddings, self.num_heads, self.head_dim).transpose(1, 2)\n",
        "\n",
        "        attention_scores = torch.matmul(query, key.transpose(-2, -1)) / (self.head_dim ** 0.5)\n",
        "        attention_scores = F.softmax(attention_scores, dim=-1)\n",
        "        weighted_value = torch.matmul(attention_scores, value)\n",
        "        weighted_value = weighted_value.transpose(1, 2).contiguous().view(batch_size, num_embeddings, self.input_dim)\n",
        "        output = self.output_layer(weighted_value)\n",
        "        weighted_sum = torch.sum(output, dim=1)\n",
        "\n",
        "        return weighted_sum\n",
        "\n",
        "# class AttentionBasedModel(nn.Module):\n",
        "#     def __init__(self, input_dim=512, hidden_dim=256, output_dim=1):\n",
        "#         super(AttentionBasedModel, self).__init__()\n",
        "#         self.attention_module = AttentionModule(input_dim)\n",
        "#         self.fc = nn.Sequential(\n",
        "#             nn.Linear(input_dim, hidden_dim),\n",
        "#             nn.ReLU(),\n",
        "#             nn.Linear(hidden_dim, output_dim),\n",
        "#             nn.Sigmoid()\n",
        "#         )\n",
        "\n",
        "#     def forward(self, image_emb, caption_emb, meme_text_emb, vqa_emb_0, vqa_emb_1, vqa_emb_2, vqa_emb_3, vqa_emb_4, vqa_emb_5, vqa_emb_6, vqa_emb_7):\n",
        "#         aggregated_embedding = self.attention_module(image_emb, caption_emb, meme_text_emb, vqa_emb_0, vqa_emb_1, vqa_emb_2, vqa_emb_3, vqa_emb_4, vqa_emb_5, vqa_emb_6, vqa_emb_7)\n",
        "#         output = self.fc(aggregated_embedding)\n",
        "#         return output\n",
        "\n",
        "class AttentionBasedModel(nn.Module):\n",
        "    def __init__(self, input_dim=512, hidden_dim=256, output_dim=1, num_heads=8):\n",
        "        super(AttentionBasedModel, self).__init__()\n",
        "        self.attention_module = MultiHeadAttentionModule(input_dim, num_heads)\n",
        "        self.fc = nn.Sequential(\n",
        "            nn.Linear(input_dim, hidden_dim),\n",
        "            nn.ReLU(),\n",
        "            nn.Linear(hidden_dim, output_dim),\n",
        "            nn.Sigmoid()\n",
        "        )\n",
        "\n",
        "    def forward(self, image_emb, caption_emb, meme_text_emb, vqa_emb_0, vqa_emb_1, vqa_emb_2, vqa_emb_3, vqa_emb_4, vqa_emb_5, vqa_emb_6, vqa_emb_7):\n",
        "        aggregated_embedding = self.attention_module(image_emb, caption_emb, meme_text_emb, vqa_emb_0, vqa_emb_1, vqa_emb_2, vqa_emb_3, vqa_emb_4, vqa_emb_5, vqa_emb_6, vqa_emb_7)\n",
        "        output = self.fc(aggregated_embedding)\n",
        "        return output\n",
        "\n",
        "model = AttentionBasedModel()\n",
        "criterion = nn.BCELoss()\n",
        "optimizer = optim.Adam(model.parameters(), lr=0.001)"
      ],
      "metadata": {
        "id": "7K2n4io822Ee"
      },
      "execution_count": 18,
      "outputs": []
    },
    {
      "cell_type": "code",
      "source": [
        "train_losses = []\n",
        "val_losses = []\n",
        "\n",
        "num_epochs = 10\n",
        "\n",
        "# Example training loop\n",
        "best_val_loss = float('inf')\n",
        "for epoch in tqdm(range(num_epochs), desc=\"Epochs\", ncols=100):\n",
        "    model.train()\n",
        "    running_loss = 0.0\n",
        "\n",
        "    for image_emb, caption_emb, meme_text_emb, vqa_emb_0, vqa_emb_1, vqa_emb_2, vqa_emb_3, vqa_emb_4, vqa_emb_5, vqa_emb_6, vqa_emb_7, label in train_loader:\n",
        "        optimizer.zero_grad()\n",
        "        outputs = model(image_emb, caption_emb, meme_text_emb, vqa_emb_0, vqa_emb_1, vqa_emb_2, vqa_emb_3, vqa_emb_4, vqa_emb_5, vqa_emb_6, vqa_emb_7)\n",
        "        loss = criterion(outputs.squeeze(), label.float())\n",
        "        loss.backward()\n",
        "        optimizer.step()\n",
        "        running_loss += loss.item()\n",
        "\n",
        "    avg_train_loss = running_loss / len(train_loader)\n",
        "    train_losses.append(avg_train_loss)\n",
        "\n",
        "    model.eval()\n",
        "    val_loss = 0.0\n",
        "    with torch.no_grad():\n",
        "        for image_emb, caption_emb, meme_text_emb, vqa_emb_0, vqa_emb_1, vqa_emb_2, vqa_emb_3, vqa_emb_4, vqa_emb_5, vqa_emb_6, vqa_emb_7, label in val_loader:\n",
        "            outputs = model(image_emb, caption_emb, meme_text_emb, vqa_emb_0, vqa_emb_1, vqa_emb_2, vqa_emb_3, vqa_emb_4, vqa_emb_5, vqa_emb_6, vqa_emb_7)\n",
        "            loss = criterion(outputs.squeeze(), label.float())\n",
        "            val_loss += loss.item()\n",
        "\n",
        "    avg_val_loss = val_loss / len(val_loader)\n",
        "    val_losses.append(avg_val_loss)\n",
        "\n",
        "    if avg_val_loss < best_val_loss:\n",
        "        best_val_loss = avg_val_loss\n",
        "        torch.save(model.state_dict(), 'best_model.pth')\n",
        "\n",
        "plt.figure(figsize=(10, 5))\n",
        "plt.plot(range(1, num_epochs + 1), train_losses, label='Training Loss', color='blue')\n",
        "plt.plot(range(1, num_epochs + 1), val_losses, label='Validation Loss', color='red')\n",
        "plt.xlabel('Epochs')\n",
        "plt.ylabel('Loss')\n",
        "plt.title('Training and Validation Losses')\n",
        "plt.legend()\n",
        "plt.show()"
      ],
      "metadata": {
        "colab": {
          "base_uri": "https://localhost:8080/",
          "height": 505
        },
        "id": "rqUt6Ziw3A9o",
        "outputId": "392c7a3b-4e96-4c9d-b32e-abdfae5bbc83"
      },
      "execution_count": 19,
      "outputs": [
        {
          "output_type": "stream",
          "name": "stderr",
          "text": [
            "Epochs: 100%|███████████████████████████████████████████████████████| 10/10 [00:49<00:00,  4.93s/it]\n"
          ]
        },
        {
          "output_type": "display_data",
          "data": {
            "text/plain": [
              "<Figure size 1000x500 with 1 Axes>"
            ],
            "image/png": "[encoded data removed]"
          },
          "metadata": {}
        }
      ]
    },
    {
      "cell_type": "code",
      "source": [
        "model.load_state_dict(torch.load('best_model.pth', weights_only=True))\n",
        "\n",
        "model.eval()\n",
        "predictions = []\n",
        "targets = []\n",
        "\n",
        "with torch.no_grad():\n",
        "    for image_emb, caption_emb, meme_text_emb, vqa_emb_0, vqa_emb_1, vqa_emb_2, vqa_emb_3, vqa_emb_4, vqa_emb_5, vqa_emb_6, vqa_emb_7, label in test_loader:\n",
        "        outputs = model(image_emb, caption_emb, meme_text_emb, vqa_emb_0, vqa_emb_1, vqa_emb_2, vqa_emb_3, vqa_emb_4, vqa_emb_5, vqa_emb_6, vqa_emb_7)\n",
        "        predictions.append(outputs.squeeze())\n",
        "        targets.append(label)\n",
        "\n",
        "predictions = torch.cat(predictions).numpy()\n",
        "targets = torch.cat(targets).numpy()\n",
        "\n",
        "roc_auc = roc_auc_score(targets, predictions)\n",
        "print(f\"ROC AUC: {roc_auc}\")"
      ],
      "metadata": {
        "colab": {
          "base_uri": "https://localhost:8080/"
        },
        "id": "mflrzlWg3DM4",
        "outputId": "6504f18b-c518-49bf-f871-f063ffdf4b5f"
      },
      "execution_count": 20,
      "outputs": [
        {
          "output_type": "stream",
          "name": "stdout",
          "text": [
            "ROC AUC: 0.8915654238234884\n"
          ]
        }
      ]
    },
    {
      "cell_type": "markdown",
      "source": [
        "# Concatenating the embeddings"
      ],
      "metadata": {
        "id": "hX6uBTRcmHR2"
      }
    },
    {
      "cell_type": "code",
      "source": [
        "def concat(data, i):\n",
        "  image_embedding = data[i]['image_embedding']\n",
        "  caption_embedding = data[i]['caption_embedding']\n",
        "  meme_text_embedding = data[i]['meme_text_embedding']\n",
        "  vqa_embeddings = data[i]['vqa_embeddings']\n",
        "  label = torch.tensor(data[i]['label'], dtype=torch.float32).view(1)\n",
        "\n",
        "  vqa_flattened = vqa_embeddings.view(-1, 512)\n",
        "  concatenated = torch.cat([image_embedding, caption_embedding, meme_text_embedding, vqa_flattened], dim=0).view(1, -1)\n",
        "\n",
        "  return concatenated, label\n",
        "\n",
        "class MemeDataset(Dataset):\n",
        "    def __init__(self, data):\n",
        "        self.data = data\n",
        "\n",
        "    def __len__(self):\n",
        "        return len(self.data)\n",
        "\n",
        "    def __getitem__(self, idx):\n",
        "        concatenated, label = concat(self.data, idx)\n",
        "        return concatenated.squeeze(0), label.squeeze(0)\n",
        "\n",
        "dataset = MemeDataset(data)\n",
        "\n",
        "train_size = int(0.8 * len(dataset))\n",
        "val_size = int(0.1 * len(dataset))\n",
        "test_size = len(dataset) - train_size - val_size\n",
        "train_dataset, val_dataset, test_dataset = random_split(dataset, [train_size, val_size, test_size])\n",
        "\n",
        "train_loader = DataLoader(train_dataset, batch_size=32, shuffle=True)\n",
        "val_loader = DataLoader(val_dataset, batch_size=32, shuffle=False)\n",
        "test_loader = DataLoader(test_dataset, batch_size=32, shuffle=False)"
      ],
      "metadata": {
        "id": "jgB3DRjVepDL"
      },
      "execution_count": 3,
      "outputs": []
    },
    {
      "cell_type": "code",
      "source": [
        "class SimpleClassifier(nn.Module):\n",
        "    def __init__(self, input_size):\n",
        "        super(SimpleClassifier, self).__init__()\n",
        "        self.fc = nn.Sequential(\n",
        "            nn.Linear(input_size, 128),\n",
        "            nn.ReLU(),\n",
        "            nn.Linear(128, 1),\n",
        "            nn.Sigmoid()\n",
        "        )\n",
        "\n",
        "    def forward(self, x):\n",
        "        return self.fc(x)\n",
        "\n",
        "input_size = 5632\n",
        "model = SimpleClassifier(input_size)\n",
        "\n",
        "criterion = nn.BCELoss()\n",
        "optimizer = optim.Adam(model.parameters(), lr=1e-3)"
      ],
      "metadata": {
        "id": "r4hh2h9hTXgF"
      },
      "execution_count": 4,
      "outputs": []
    },
    {
      "cell_type": "code",
      "source": [
        "train_losses = []\n",
        "val_losses = []\n",
        "\n",
        "num_epochs = 10\n",
        "\n",
        "# Training loop\n",
        "best_val_loss = float('inf')\n",
        "for epoch in tqdm(range(num_epochs), desc=\"Epochs\", ncols=100):\n",
        "    model.train()\n",
        "    running_loss = 0.0\n",
        "\n",
        "    # Training phase\n",
        "    for inputs, targets in train_loader:\n",
        "        optimizer.zero_grad()\n",
        "        outputs = model(inputs)\n",
        "        loss = criterion(outputs.squeeze(), targets)\n",
        "        loss.backward()\n",
        "        optimizer.step()\n",
        "        running_loss += loss.item()\n",
        "\n",
        "    avg_train_loss = running_loss / len(train_loader)\n",
        "    train_losses.append(avg_train_loss)\n",
        "\n",
        "    # Validation phase\n",
        "    model.eval()\n",
        "    val_loss = 0.0\n",
        "    with torch.no_grad():\n",
        "        for inputs, targets in val_loader:\n",
        "            outputs = model(inputs)\n",
        "            loss = criterion(outputs.squeeze(), targets)\n",
        "            val_loss += loss.item()\n",
        "\n",
        "    avg_val_loss = val_loss / len(val_loader)\n",
        "    val_losses.append(avg_val_loss)\n",
        "\n",
        "    if avg_val_loss < best_val_loss:\n",
        "        best_val_loss = avg_val_loss\n",
        "        torch.save(model.state_dict(), 'best_model.pth')\n",
        "\n",
        "plt.figure(figsize=(10, 5))\n",
        "plt.plot(range(1, num_epochs + 1), train_losses, label='Training Loss', color='blue')\n",
        "plt.plot(range(1, num_epochs + 1), val_losses, label='Validation Loss', color='red')\n",
        "plt.xlabel('Epochs')\n",
        "plt.ylabel('Loss')\n",
        "plt.title('Training and Validation Losses')\n",
        "plt.legend()\n",
        "plt.show()"
      ],
      "metadata": {
        "colab": {
          "base_uri": "https://localhost:8080/",
          "height": 505
        },
        "id": "FwEweEJIjgFT",
        "outputId": "ea13af42-ccad-4c03-97a1-67af50453a45"
      },
      "execution_count": 5,
      "outputs": [
        {
          "output_type": "stream",
          "name": "stderr",
          "text": [
            "Epochs: 100%|███████████████████████████████████████████████████████| 10/10 [00:11<00:00,  1.18s/it]\n"
          ]
        },
        {
          "output_type": "display_data",
          "data": {
            "text/plain": [
              "<Figure size 1000x500 with 1 Axes>"
            ],
            "image/png": "[encoded data removed]"
          },
          "metadata": {}
        }
      ]
    },
    {
      "cell_type": "code",
      "source": [
        "model.load_state_dict(torch.load('best_model.pth', weights_only=True))\n",
        "\n",
        "model.eval()\n",
        "all_preds_prob = []\n",
        "all_labels = []\n",
        "\n",
        "with torch.no_grad():\n",
        "    for inputs, targets in test_loader:\n",
        "        outputs = model(inputs).squeeze()\n",
        "        all_preds_prob.extend(outputs.cpu().numpy())\n",
        "        all_labels.extend(targets.cpu().numpy())\n",
        "\n",
        "auroc = roc_auc_score(all_labels, all_preds_prob)\n",
        "print(f\"Test AUROC: {auroc:.4f}\")"
      ],
      "metadata": {
        "colab": {
          "base_uri": "https://localhost:8080/"
        },
        "id": "Ywd3een-f1_4",
        "outputId": "79dc0a8e-aca0-4269-93e0-21d4389ad547"
      },
      "execution_count": 6,
      "outputs": [
        {
          "output_type": "stream",
          "name": "stdout",
          "text": [
            "Test AUROC: 0.8849\n"
          ]
        }
      ]
    }
  ],
  "metadata": {
    "colab": {
      "provenance": [],
      "mount_file_id": "1xyekuf620VNDspmgwQTljESXFLvm-nfU",
      "authorship_tag": "ABX9TyMQtwq9IOA/81VdPHZWWLvK",
      "include_colab_link": true
    },
    "kernelspec": {
      "display_name": "Python 3",
      "name": "python3"
    },
    "language_info": {
      "name": "python"
    }
  },
  "nbformat": 4,
  "nbformat_minor": 0
}